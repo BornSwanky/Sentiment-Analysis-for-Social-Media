{
  "nbformat": 4,
  "nbformat_minor": 0,
  "metadata": {
    "colab": {
      "provenance": []
    },
    "kernelspec": {
      "name": "python3",
      "display_name": "Python 3"
    },
    "language_info": {
      "name": "python"
    }
  },
  "cells": [
    {
      "cell_type": "code",
      "source": [
        "pip install transformers textblob scikit-learn pandas torch"
      ],
      "metadata": {
        "colab": {
          "base_uri": "https://localhost:8080/"
        },
        "collapsed": true,
        "id": "QLwazzzuto4B",
        "outputId": "1a5600ce-1664-49e5-891d-0270cafa5537"
      },
      "execution_count": 8,
      "outputs": [
        {
          "output_type": "stream",
          "name": "stdout",
          "text": [
            "Requirement already satisfied: transformers in /usr/local/lib/python3.10/dist-packages (4.42.4)\n",
            "Requirement already satisfied: textblob in /usr/local/lib/python3.10/dist-packages (0.17.1)\n",
            "Requirement already satisfied: scikit-learn in /usr/local/lib/python3.10/dist-packages (1.3.2)\n",
            "Requirement already satisfied: pandas in /usr/local/lib/python3.10/dist-packages (2.1.4)\n",
            "Requirement already satisfied: torch in /usr/local/lib/python3.10/dist-packages (2.3.1+cu121)\n",
            "Requirement already satisfied: filelock in /usr/local/lib/python3.10/dist-packages (from transformers) (3.15.4)\n",
            "Requirement already satisfied: huggingface-hub<1.0,>=0.23.2 in /usr/local/lib/python3.10/dist-packages (from transformers) (0.23.5)\n",
            "Requirement already satisfied: numpy<2.0,>=1.17 in /usr/local/lib/python3.10/dist-packages (from transformers) (1.26.4)\n",
            "Requirement already satisfied: packaging>=20.0 in /usr/local/lib/python3.10/dist-packages (from transformers) (24.1)\n",
            "Requirement already satisfied: pyyaml>=5.1 in /usr/local/lib/python3.10/dist-packages (from transformers) (6.0.2)\n",
            "Requirement already satisfied: regex!=2019.12.17 in /usr/local/lib/python3.10/dist-packages (from transformers) (2024.5.15)\n",
            "Requirement already satisfied: requests in /usr/local/lib/python3.10/dist-packages (from transformers) (2.32.3)\n",
            "Requirement already satisfied: safetensors>=0.4.1 in /usr/local/lib/python3.10/dist-packages (from transformers) (0.4.4)\n",
            "Requirement already satisfied: tokenizers<0.20,>=0.19 in /usr/local/lib/python3.10/dist-packages (from transformers) (0.19.1)\n",
            "Requirement already satisfied: tqdm>=4.27 in /usr/local/lib/python3.10/dist-packages (from transformers) (4.66.5)\n",
            "Requirement already satisfied: nltk>=3.1 in /usr/local/lib/python3.10/dist-packages (from textblob) (3.8.1)\n",
            "Requirement already satisfied: scipy>=1.5.0 in /usr/local/lib/python3.10/dist-packages (from scikit-learn) (1.13.1)\n",
            "Requirement already satisfied: joblib>=1.1.1 in /usr/local/lib/python3.10/dist-packages (from scikit-learn) (1.4.2)\n",
            "Requirement already satisfied: threadpoolctl>=2.0.0 in /usr/local/lib/python3.10/dist-packages (from scikit-learn) (3.5.0)\n",
            "Requirement already satisfied: python-dateutil>=2.8.2 in /usr/local/lib/python3.10/dist-packages (from pandas) (2.8.2)\n",
            "Requirement already satisfied: pytz>=2020.1 in /usr/local/lib/python3.10/dist-packages (from pandas) (2024.1)\n",
            "Requirement already satisfied: tzdata>=2022.1 in /usr/local/lib/python3.10/dist-packages (from pandas) (2024.1)\n",
            "Requirement already satisfied: typing-extensions>=4.8.0 in /usr/local/lib/python3.10/dist-packages (from torch) (4.12.2)\n",
            "Requirement already satisfied: sympy in /usr/local/lib/python3.10/dist-packages (from torch) (1.13.1)\n",
            "Requirement already satisfied: networkx in /usr/local/lib/python3.10/dist-packages (from torch) (3.3)\n",
            "Requirement already satisfied: jinja2 in /usr/local/lib/python3.10/dist-packages (from torch) (3.1.4)\n",
            "Requirement already satisfied: fsspec in /usr/local/lib/python3.10/dist-packages (from torch) (2024.6.1)\n",
            "Collecting nvidia-cuda-nvrtc-cu12==12.1.105 (from torch)\n",
            "  Using cached nvidia_cuda_nvrtc_cu12-12.1.105-py3-none-manylinux1_x86_64.whl.metadata (1.5 kB)\n",
            "Collecting nvidia-cuda-runtime-cu12==12.1.105 (from torch)\n",
            "  Using cached nvidia_cuda_runtime_cu12-12.1.105-py3-none-manylinux1_x86_64.whl.metadata (1.5 kB)\n",
            "Collecting nvidia-cuda-cupti-cu12==12.1.105 (from torch)\n",
            "  Using cached nvidia_cuda_cupti_cu12-12.1.105-py3-none-manylinux1_x86_64.whl.metadata (1.6 kB)\n",
            "Collecting nvidia-cudnn-cu12==8.9.2.26 (from torch)\n",
            "  Using cached nvidia_cudnn_cu12-8.9.2.26-py3-none-manylinux1_x86_64.whl.metadata (1.6 kB)\n",
            "Collecting nvidia-cublas-cu12==12.1.3.1 (from torch)\n",
            "  Using cached nvidia_cublas_cu12-12.1.3.1-py3-none-manylinux1_x86_64.whl.metadata (1.5 kB)\n",
            "Collecting nvidia-cufft-cu12==11.0.2.54 (from torch)\n",
            "  Using cached nvidia_cufft_cu12-11.0.2.54-py3-none-manylinux1_x86_64.whl.metadata (1.5 kB)\n",
            "Collecting nvidia-curand-cu12==10.3.2.106 (from torch)\n",
            "  Using cached nvidia_curand_cu12-10.3.2.106-py3-none-manylinux1_x86_64.whl.metadata (1.5 kB)\n",
            "Collecting nvidia-cusolver-cu12==11.4.5.107 (from torch)\n",
            "  Using cached nvidia_cusolver_cu12-11.4.5.107-py3-none-manylinux1_x86_64.whl.metadata (1.6 kB)\n",
            "Collecting nvidia-cusparse-cu12==12.1.0.106 (from torch)\n",
            "  Using cached nvidia_cusparse_cu12-12.1.0.106-py3-none-manylinux1_x86_64.whl.metadata (1.6 kB)\n",
            "Collecting nvidia-nccl-cu12==2.20.5 (from torch)\n",
            "  Using cached nvidia_nccl_cu12-2.20.5-py3-none-manylinux2014_x86_64.whl.metadata (1.8 kB)\n",
            "Collecting nvidia-nvtx-cu12==12.1.105 (from torch)\n",
            "  Using cached nvidia_nvtx_cu12-12.1.105-py3-none-manylinux1_x86_64.whl.metadata (1.7 kB)\n",
            "Requirement already satisfied: triton==2.3.1 in /usr/local/lib/python3.10/dist-packages (from torch) (2.3.1)\n",
            "Collecting nvidia-nvjitlink-cu12 (from nvidia-cusolver-cu12==11.4.5.107->torch)\n",
            "  Using cached nvidia_nvjitlink_cu12-12.6.20-py3-none-manylinux2014_x86_64.whl.metadata (1.5 kB)\n",
            "Requirement already satisfied: click in /usr/local/lib/python3.10/dist-packages (from nltk>=3.1->textblob) (8.1.7)\n",
            "Requirement already satisfied: six>=1.5 in /usr/local/lib/python3.10/dist-packages (from python-dateutil>=2.8.2->pandas) (1.16.0)\n",
            "Requirement already satisfied: MarkupSafe>=2.0 in /usr/local/lib/python3.10/dist-packages (from jinja2->torch) (2.1.5)\n",
            "Requirement already satisfied: charset-normalizer<4,>=2 in /usr/local/lib/python3.10/dist-packages (from requests->transformers) (3.3.2)\n",
            "Requirement already satisfied: idna<4,>=2.5 in /usr/local/lib/python3.10/dist-packages (from requests->transformers) (3.7)\n",
            "Requirement already satisfied: urllib3<3,>=1.21.1 in /usr/local/lib/python3.10/dist-packages (from requests->transformers) (2.0.7)\n",
            "Requirement already satisfied: certifi>=2017.4.17 in /usr/local/lib/python3.10/dist-packages (from requests->transformers) (2024.7.4)\n",
            "Requirement already satisfied: mpmath<1.4,>=1.1.0 in /usr/local/lib/python3.10/dist-packages (from sympy->torch) (1.3.0)\n",
            "Using cached nvidia_cublas_cu12-12.1.3.1-py3-none-manylinux1_x86_64.whl (410.6 MB)\n",
            "Using cached nvidia_cuda_cupti_cu12-12.1.105-py3-none-manylinux1_x86_64.whl (14.1 MB)\n",
            "Using cached nvidia_cuda_nvrtc_cu12-12.1.105-py3-none-manylinux1_x86_64.whl (23.7 MB)\n",
            "Using cached nvidia_cuda_runtime_cu12-12.1.105-py3-none-manylinux1_x86_64.whl (823 kB)\n",
            "Using cached nvidia_cudnn_cu12-8.9.2.26-py3-none-manylinux1_x86_64.whl (731.7 MB)\n",
            "Using cached nvidia_cufft_cu12-11.0.2.54-py3-none-manylinux1_x86_64.whl (121.6 MB)\n",
            "Using cached nvidia_curand_cu12-10.3.2.106-py3-none-manylinux1_x86_64.whl (56.5 MB)\n",
            "Using cached nvidia_cusolver_cu12-11.4.5.107-py3-none-manylinux1_x86_64.whl (124.2 MB)\n",
            "Using cached nvidia_cusparse_cu12-12.1.0.106-py3-none-manylinux1_x86_64.whl (196.0 MB)\n",
            "Using cached nvidia_nccl_cu12-2.20.5-py3-none-manylinux2014_x86_64.whl (176.2 MB)\n",
            "Using cached nvidia_nvtx_cu12-12.1.105-py3-none-manylinux1_x86_64.whl (99 kB)\n",
            "Using cached nvidia_nvjitlink_cu12-12.6.20-py3-none-manylinux2014_x86_64.whl (19.7 MB)\n",
            "Installing collected packages: nvidia-nvtx-cu12, nvidia-nvjitlink-cu12, nvidia-nccl-cu12, nvidia-curand-cu12, nvidia-cufft-cu12, nvidia-cuda-runtime-cu12, nvidia-cuda-nvrtc-cu12, nvidia-cuda-cupti-cu12, nvidia-cublas-cu12, nvidia-cusparse-cu12, nvidia-cudnn-cu12, nvidia-cusolver-cu12\n",
            "Successfully installed nvidia-cublas-cu12-12.1.3.1 nvidia-cuda-cupti-cu12-12.1.105 nvidia-cuda-nvrtc-cu12-12.1.105 nvidia-cuda-runtime-cu12-12.1.105 nvidia-cudnn-cu12-8.9.2.26 nvidia-cufft-cu12-11.0.2.54 nvidia-curand-cu12-10.3.2.106 nvidia-cusolver-cu12-11.4.5.107 nvidia-cusparse-cu12-12.1.0.106 nvidia-nccl-cu12-2.20.5 nvidia-nvjitlink-cu12-12.6.20 nvidia-nvtx-cu12-12.1.105\n"
          ]
        }
      ]
    },
    {
      "cell_type": "code",
      "source": [
        "pip install nltk"
      ],
      "metadata": {
        "colab": {
          "base_uri": "https://localhost:8080/"
        },
        "id": "lfqcB4aRvFY3",
        "outputId": "233bbaf2-1683-4c67-ed3d-2f64b4aab8df"
      },
      "execution_count": 10,
      "outputs": [
        {
          "output_type": "stream",
          "name": "stdout",
          "text": [
            "Requirement already satisfied: nltk in /usr/local/lib/python3.10/dist-packages (3.8.1)\n",
            "Requirement already satisfied: click in /usr/local/lib/python3.10/dist-packages (from nltk) (8.1.7)\n",
            "Requirement already satisfied: joblib in /usr/local/lib/python3.10/dist-packages (from nltk) (1.4.2)\n",
            "Requirement already satisfied: regex>=2021.8.3 in /usr/local/lib/python3.10/dist-packages (from nltk) (2024.5.15)\n",
            "Requirement already satisfied: tqdm in /usr/local/lib/python3.10/dist-packages (from nltk) (4.66.5)\n"
          ]
        }
      ]
    },
    {
      "cell_type": "code",
      "source": [
        "pip install tqdm"
      ],
      "metadata": {
        "colab": {
          "base_uri": "https://localhost:8080/"
        },
        "id": "5rfnrXbZ35NN",
        "outputId": "b6ed2926-aaef-4b58-a6a8-81d425eac187"
      },
      "execution_count": 33,
      "outputs": [
        {
          "output_type": "stream",
          "name": "stdout",
          "text": [
            "Requirement already satisfied: tqdm in /usr/local/lib/python3.10/dist-packages (4.66.5)\n"
          ]
        }
      ]
    },
    {
      "cell_type": "code",
      "source": [
        "import numpy as np\n",
        "import pandas as pd\n",
        "import re\n",
        "import nltk\n",
        "import tensorflow as tf  # Import TensorFlow\n",
        "from sklearn.model_selection import train_test_split\n",
        "from sklearn.metrics import classification_report, accuracy_score\n",
        "from tensorflow.keras.preprocessing.text import Tokenizer\n",
        "from tensorflow.keras.preprocessing.sequence import pad_sequences\n",
        "from tensorflow.keras.models import Sequential\n",
        "from tensorflow.keras.layers import Embedding, Conv1D, MaxPooling1D, LSTM, Dense, Dropout, SpatialDropout1D\n",
        "from tensorflow.keras.utils import to_categorical\n",
        "from tqdm import tqdm  # Import tqdm for progress bar\n",
        "from nltk.corpus import stopwords\n",
        "from textblob import TextBlob\n",
        "\n",
        "# Download required nltk data\n",
        "nltk.download('stopwords')\n",
        "nltk.download('wordnet')\n"
      ],
      "metadata": {
        "colab": {
          "base_uri": "https://localhost:8080/"
        },
        "id": "63HaMTJHtryh",
        "outputId": "3416c837-b2ba-421a-ffd1-1b4d25f80412"
      },
      "execution_count": 97,
      "outputs": [
        {
          "output_type": "stream",
          "name": "stderr",
          "text": [
            "[nltk_data] Downloading package stopwords to /root/nltk_data...\n",
            "[nltk_data]   Package stopwords is already up-to-date!\n",
            "[nltk_data] Downloading package wordnet to /root/nltk_data...\n",
            "[nltk_data]   Package wordnet is already up-to-date!\n"
          ]
        },
        {
          "output_type": "execute_result",
          "data": {
            "text/plain": [
              "True"
            ]
          },
          "metadata": {},
          "execution_count": 97
        }
      ]
    },
    {
      "cell_type": "code",
      "source": [
        "import pandas as pd\n",
        "\n",
        "# Load the dataset\n",
        "dataset = pd.read_csv(\"/content/sample_data/twitter_dataset.csv\")\n",
        "\n",
        "# Display the first few rows of the dataset\n",
        "print(dataset.head())\n"
      ],
      "metadata": {
        "colab": {
          "base_uri": "https://localhost:8080/"
        },
        "id": "tWB583-mqF-3",
        "outputId": "fbfb4d14-d404-4664-ac8a-42d7ed481cc7"
      },
      "execution_count": 98,
      "outputs": [
        {
          "output_type": "stream",
          "name": "stdout",
          "text": [
            "   id  Tweet_ID          Username  \\\n",
            "0   1      9954           wmoreno   \n",
            "1   2      3851        waltonsara   \n",
            "2   3      4963             amy49   \n",
            "3   4      3887            paul09   \n",
            "4   5      5438  johnstonmichelle   \n",
            "\n",
            "                                                Text  Retweets  Likes  \\\n",
            "0  Factor enjoy property world main despite. Grow...        61      6   \n",
            "1  Television sure when others water hold. Value ...        11     18   \n",
            "2  In structure there trip professional any him. ...        71     91   \n",
            "3  Walk method city all statement then check. Ana...         5     31   \n",
            "4  Single bed cover if nearly. Let feeling side.\\...        46     58   \n",
            "\n",
            "             Timestamp  \n",
            "0  2023-04-14 05:33:28  \n",
            "1  2023-04-09 19:09:27  \n",
            "2  2023-05-09 20:12:28  \n",
            "3  2023-01-16 10:57:45  \n",
            "4  2023-05-08 22:24:11  \n"
          ]
        }
      ]
    },
    {
      "cell_type": "code",
      "source": [
        "# Initialize the necessary tools\n",
        "stop_words = set(stopwords.words('english'))\n",
        "stemmer = PorterStemmer()\n",
        "lemmatizer = WordNetLemmatizer()\n",
        "\n",
        "def preprocess_text(text):\n",
        "    # Normalize the text to lowercase\n",
        "    text = text.lower()\n",
        "\n",
        "    # Remove special characters, numbers, and punctuation\n",
        "    text = re.sub(r'[^a-zA-Z\\s]', '', text)\n",
        "\n",
        "    # Remove stopwords\n",
        "    words = text.split()\n",
        "    words = [word for word in words if word not in stop_words]\n",
        "\n",
        "    # Perform stemming and lemmatization\n",
        "    words = [stemmer.stem(word) for word in words]\n",
        "    words = [lemmatizer.lemmatize(word) for word in words]\n",
        "\n",
        "    # Rejoin words into a single string\n",
        "    cleaned_text = ' '.join(words)\n",
        "\n",
        "    return cleaned_text\n",
        "\n",
        "# Apply preprocessing to the dataset\n",
        "df['cleaned_text'] = df['Text'].apply(preprocess_text)\n",
        "\n",
        "df = df.drop(columns=['id', 'Tweet_ID', 'Username', 'Retweets', 'Likes'])"
      ],
      "metadata": {
        "id": "lqQHdTqIs0Ss"
      },
      "execution_count": 16,
      "outputs": []
    },
    {
      "cell_type": "code",
      "source": [
        "# Display the first few rows to verify\n",
        "print(df.head())"
      ],
      "metadata": {
        "colab": {
          "base_uri": "https://localhost:8080/"
        },
        "id": "_niQBCM4v1wA",
        "outputId": "f22c5133-77ec-4f22-856b-b8c0e52e823f"
      },
      "execution_count": 99,
      "outputs": [
        {
          "output_type": "stream",
          "name": "stdout",
          "text": [
            "                                                Text            Timestamp  \\\n",
            "0  Factor enjoy property world main despite. Grow...  2023-04-14 05:33:28   \n",
            "1  Television sure when others water hold. Value ...  2023-04-09 19:09:27   \n",
            "2  In structure there trip professional any him. ...  2023-05-09 20:12:28   \n",
            "3  Walk method city all statement then check. Ana...  2023-01-16 10:57:45   \n",
            "4  Single bed cover if nearly. Let feeling side.\\...  2023-05-08 22:24:11   \n",
            "\n",
            "                                        cleaned_text  label  \n",
            "0  factor enjoy properti world main despit grow w...      1  \n",
            "1  televis sure other water hold valu economi men...      2  \n",
            "2  structur trip profession offer chair break cle...      0  \n",
            "3  walk method citi statement check analysi child...      1  \n",
            "4  singl bed cover nearli let feel side doctor ch...      2  \n"
          ]
        }
      ]
    },
    {
      "cell_type": "code",
      "source": [
        "# Generate sentiment labels with TextBlob\n",
        "def get_sentiment_label(text):\n",
        "    # Use TextBlob to calculate sentiment polarity\n",
        "    blob = TextBlob(text)\n",
        "    polarity = blob.sentiment.polarity\n",
        "\n",
        "    # Assign sentiment based on polarity score\n",
        "    if polarity > 0.1:\n",
        "        return 2  # Positive\n",
        "    elif polarity < -0.1:\n",
        "        return 0  # Negative\n",
        "    else:\n",
        "        return 1  # Neutral\n",
        "\n",
        "# Apply the sentiment labeling function\n",
        "df['label'] = df['cleaned_text'].apply(get_sentiment_label)\n",
        "\n",
        "# Display the first few rows to verify the labels\n",
        "print(df.head())\n"
      ],
      "metadata": {
        "colab": {
          "base_uri": "https://localhost:8080/"
        },
        "id": "AsTYzGxJv94l",
        "outputId": "71449651-e27a-4f80-b08f-95f39bf54cab"
      },
      "execution_count": 100,
      "outputs": [
        {
          "output_type": "stream",
          "name": "stdout",
          "text": [
            "                                                Text            Timestamp  \\\n",
            "0  Factor enjoy property world main despite. Grow...  2023-04-14 05:33:28   \n",
            "1  Television sure when others water hold. Value ...  2023-04-09 19:09:27   \n",
            "2  In structure there trip professional any him. ...  2023-05-09 20:12:28   \n",
            "3  Walk method city all statement then check. Ana...  2023-01-16 10:57:45   \n",
            "4  Single bed cover if nearly. Let feeling side.\\...  2023-05-08 22:24:11   \n",
            "\n",
            "                                        cleaned_text  label  \n",
            "0  factor enjoy properti world main despit grow w...      1  \n",
            "1  televis sure other water hold valu economi men...      2  \n",
            "2  structur trip profession offer chair break cle...      0  \n",
            "3  walk method citi statement check analysi child...      1  \n",
            "4  singl bed cover nearli let feel side doctor ch...      2  \n"
          ]
        }
      ]
    },
    {
      "cell_type": "code",
      "source": [
        "# Split the Data into Training and Testing Sets\n",
        "X_train, X_test, y_train, y_test = train_test_split(df['cleaned_text'], df['label'], test_size=0.2, random_state=42)\n"
      ],
      "metadata": {
        "id": "Xo-QV_Z8wYGz"
      },
      "execution_count": 101,
      "outputs": []
    },
    {
      "cell_type": "code",
      "source": [
        "# TF-IDF Vectorization for Logistic Regression and SVM\n",
        "tfidf_vectorizer = TfidfVectorizer(max_features=5000)\n",
        "\n",
        "# Fit and transform the data\n",
        "X_train_tfidf = tfidf_vectorizer.fit_transform(X_train)\n",
        "X_test_tfidf = tfidf_vectorizer.transform(X_test)\n"
      ],
      "metadata": {
        "id": "7lFegml8x2uS"
      },
      "execution_count": 102,
      "outputs": []
    },
    {
      "cell_type": "code",
      "source": [
        "# Logistic Regression\n",
        "log_reg = LogisticRegression(max_iter=1000)\n",
        "\n",
        "# Train the model on the full training set\n",
        "log_reg.fit(X_train_tfidf, y_train)\n",
        "\n",
        "# Predict on the test set\n",
        "y_pred_log_reg = log_reg.predict(X_test_tfidf)\n",
        "\n",
        "# SVM\n",
        "svm_model = SVC(kernel='linear', probability=True)\n",
        "\n",
        "# Train the model on the full training set\n",
        "svm_model.fit(X_train_tfidf, y_train)\n",
        "\n",
        "# Predict on the test set\n",
        "y_pred_svm = svm_model.predict(X_test_tfidf)\n"
      ],
      "metadata": {
        "id": "k2eND-gTx8U4"
      },
      "execution_count": 103,
      "outputs": []
    },
    {
      "cell_type": "code",
      "source": [
        "# Tokenization and Padding\n",
        "max_words = 5000\n",
        "max_len = 100\n",
        "tokenizer = Tokenizer(num_words=max_words)\n",
        "tokenizer.fit_on_texts(df['cleaned_text'])\n",
        "sequences = tokenizer.texts_to_sequences(df['cleaned_text'])\n",
        "X = pad_sequences(sequences, maxlen=max_len)\n",
        "y = to_categorical(df['label'])\n",
        "\n",
        "# Split the data\n",
        "X_train, X_test, y_train, y_test = train_test_split(X, y, test_size=0.2, random_state=42)\n"
      ],
      "metadata": {
        "id": "wZv9qLqYC52b"
      },
      "execution_count": 88,
      "outputs": []
    },
    {
      "cell_type": "code",
      "source": [
        "# Build the CNN-LSTM Model\n",
        "model = Sequential()\n",
        "model.add(Embedding(max_words, 100, input_length=max_len))\n",
        "model.add(SpatialDropout1D(0.2))\n",
        "model.add(Conv1D(filters=64, kernel_size=5, padding='same', activation='relu'))\n",
        "model.add(MaxPooling1D(pool_size=4))\n",
        "model.add(LSTM(100, dropout=0.2, recurrent_dropout=0.2))\n",
        "model.add(Dense(3, activation='softmax'))\n",
        "\n",
        "model.compile(loss='categorical_crossentropy', optimizer='adam', metrics=['accuracy'])\n"
      ],
      "metadata": {
        "colab": {
          "base_uri": "https://localhost:8080/"
        },
        "id": "rFF_Io0QC8GD",
        "outputId": "b2ad1d5f-8915-45c1-d76f-5fcd27c8a292"
      },
      "execution_count": 89,
      "outputs": [
        {
          "output_type": "stream",
          "name": "stderr",
          "text": [
            "/usr/local/lib/python3.10/dist-packages/keras/src/layers/core/embedding.py:90: UserWarning: Argument `input_length` is deprecated. Just remove it.\n",
            "  warnings.warn(\n"
          ]
        }
      ]
    },
    {
      "cell_type": "code",
      "source": [
        "# Custom callback for tqdm progress bar\n",
        "class TQDMProgressCallback(tf.keras.callbacks.Callback):\n",
        "    def on_epoch_begin(self, epoch, logs=None):\n",
        "        self.epoch_progress = tqdm(total=len(X_train), desc=f\"Epoch {epoch+1}/{self.params['epochs']}\")\n",
        "\n",
        "    def on_batch_end(self, batch, logs=None):\n",
        "        self.epoch_progress.update(X_train.shape[0])\n",
        "\n",
        "    def on_epoch_end(self, epoch, logs=None):\n",
        "        self.epoch_progress.close()\n",
        "\n",
        "# Train the model with progress bar\n",
        "model.fit(X_train, y_train, epochs=5, batch_size=64, validation_data=(X_test, y_test), verbose=0, callbacks=[TQDMProgressCallback()])\n"
      ],
      "metadata": {
        "colab": {
          "base_uri": "https://localhost:8080/"
        },
        "id": "_xwzNUKcC-Jf",
        "outputId": "0f9c0375-36aa-499c-d231-a22ad9e9ef75"
      },
      "execution_count": 90,
      "outputs": [
        {
          "output_type": "stream",
          "name": "stderr",
          "text": [
            "Epoch 1/5: 360000it [00:13, 26334.72it/s]\n",
            "Epoch 2/5: 360000it [00:14, 24715.86it/s]\n",
            "Epoch 3/5: 360000it [00:07, 51309.48it/s]\n",
            "Epoch 4/5: 360000it [00:05, 67329.04it/s]\n",
            "Epoch 5/5: 360000it [00:06, 52078.13it/s]\n"
          ]
        },
        {
          "output_type": "execute_result",
          "data": {
            "text/plain": [
              "<keras.src.callbacks.history.History at 0x7e0e96a48f70>"
            ]
          },
          "metadata": {},
          "execution_count": 90
        }
      ]
    },
    {
      "cell_type": "code",
      "source": [
        "# Evaluate the model\n",
        "y_pred = model.predict(X_test, batch_size=64, verbose=2)\n",
        "y_pred_classes = np.argmax(y_pred, axis=1)\n",
        "y_true = np.argmax(y_test, axis=1)\n"
      ],
      "metadata": {
        "colab": {
          "base_uri": "https://localhost:8080/"
        },
        "id": "6MVgZw99EiV2",
        "outputId": "e0aedd27-5acb-4811-8ef6-abeba90d0b92"
      },
      "execution_count": 91,
      "outputs": [
        {
          "output_type": "stream",
          "name": "stdout",
          "text": [
            "19/19 - 1s - 44ms/step\n"
          ]
        }
      ]
    },
    {
      "cell_type": "code",
      "source": [
        "# Evaluate Logistic Regression Model\n",
        "print(\"\\nLogistic Regression Evaluation on Test Set:\")\n",
        "print(classification_report(y_test, y_pred_log_reg, target_names=['negative', 'neutral', 'positive']))\n",
        "print(\"Accuracy on Test Set:\", accuracy_score(y_test, y_pred_log_reg))\n",
        "\n",
        "# Evaluate SVM Model\n",
        "print(\"\\nSVM Evaluation on Test Set:\")\n",
        "print(classification_report(y_test, y_pred_svm, target_names=['negative', 'neutral', 'positive']))\n",
        "print(\"Accuracy on Test Set:\", accuracy_score(y_test, y_pred_svm))\n",
        "\n",
        "print(\"\\nCNN-LSTM Hybrid Model Evaluation on Test Set:\")\n",
        "print(classification_report(y_true, y_pred_classes, target_names=['negative', 'neutral', 'positive']))\n",
        "print(\"Accuracy on Test Set:\", accuracy_score(y_true, y_pred_classes))"
      ],
      "metadata": {
        "colab": {
          "base_uri": "https://localhost:8080/"
        },
        "id": "AJPTIKQCECva",
        "outputId": "51dab203-5e75-439f-ff95-3aaaf4a91ad1"
      },
      "execution_count": 104,
      "outputs": [
        {
          "output_type": "stream",
          "name": "stdout",
          "text": [
            "\n",
            "Logistic Regression Evaluation on Test Set:\n",
            "              precision    recall  f1-score   support\n",
            "\n",
            "    negative       0.74      0.15      0.25       135\n",
            "     neutral       0.69      0.80      0.74       547\n",
            "    positive       0.80      0.84      0.82       518\n",
            "\n",
            "    accuracy                           0.74      1200\n",
            "   macro avg       0.74      0.60      0.60      1200\n",
            "weighted avg       0.74      0.74      0.72      1200\n",
            "\n",
            "Accuracy on Test Set: 0.7425\n",
            "\n",
            "SVM Evaluation on Test Set:\n",
            "              precision    recall  f1-score   support\n",
            "\n",
            "    negative       0.77      0.32      0.45       135\n",
            "     neutral       0.73      0.89      0.80       547\n",
            "    positive       0.89      0.83      0.86       518\n",
            "\n",
            "    accuracy                           0.80      1200\n",
            "   macro avg       0.80      0.68      0.70      1200\n",
            "weighted avg       0.81      0.80      0.79      1200\n",
            "\n",
            "Accuracy on Test Set: 0.7983333333333333\n",
            "\n",
            "CNN-LSTM Hybrid Model Evaluation on Test Set:\n",
            "              precision    recall  f1-score   support\n",
            "\n",
            "    negative       0.79      0.83      0.81       135\n",
            "     neutral       0.87      0.88      0.88       547\n",
            "    positive       0.93      0.91      0.92       518\n",
            "\n",
            "    accuracy                           0.89      1200\n",
            "   macro avg       0.86      0.87      0.87      1200\n",
            "weighted avg       0.89      0.89      0.89      1200\n",
            "\n",
            "Accuracy on Test Set: 0.8875\n"
          ]
        }
      ]
    },
    {
      "cell_type": "code",
      "source": [
        "from sklearn.metrics import confusion_matrix\n",
        "import seaborn as sns\n",
        "import matplotlib.pyplot as plt\n",
        "\n",
        "# Generate confusion matrix\n",
        "cm = confusion_matrix(y_true, y_pred_classes)\n",
        "\n",
        "# Plot confusion matrix\n",
        "plt.figure(figsize=(8, 6))\n",
        "sns.heatmap(cm, annot=True, fmt='d', cmap='Blues',\n",
        "            xticklabels=['negative', 'neutral', 'positive'],\n",
        "            yticklabels=['negative', 'neutral', 'positive'])\n",
        "plt.xlabel('Predicted Label')\n",
        "plt.ylabel('True Label')\n",
        "plt.title('Confusion Matrix for CNN-LSTM Hybrid Model')\n",
        "plt.show()\n"
      ],
      "metadata": {
        "colab": {
          "base_uri": "https://localhost:8080/",
          "height": 564
        },
        "id": "CYT9TMtfJy_p",
        "outputId": "2d4c0b75-5c93-4953-bfc4-e2edd49b83b3"
      },
      "execution_count": 119,
      "outputs": [
        {
          "output_type": "display_data",
          "data": {
            "text/plain": [
              "<Figure size 800x600 with 2 Axes>"
            ],
            "image/png": "[encoded data removed]"
          },
          "metadata": {}
        }
      ]
    },
    {
      "cell_type": "code",
      "source": [
        "import pandas as pd\n",
        "# Calculate evaluation metrics for each model\n",
        "from sklearn.metrics import precision_score, recall_score, f1_score\n",
        "\n",
        "# Logistic Regression\n",
        "log_reg_accuracy = accuracy_score(y_test, y_pred_log_reg)\n",
        "log_reg_precision = precision_score(y_test, y_pred_log_reg, average='weighted')\n",
        "log_reg_recall = recall_score(y_test, y_pred_log_reg, average='weighted')\n",
        "log_reg_f1 = f1_score(y_test, y_pred_log_reg, average='weighted')\n",
        "\n",
        "# SVM\n",
        "svm_accuracy = accuracy_score(y_test, y_pred_svm)\n",
        "svm_precision = precision_score(y_test, y_pred_svm, average='weighted')\n",
        "svm_recall = recall_score(y_test, y_pred_svm, average='weighted')\n",
        "svm_f1 = f1_score(y_test, y_pred_svm, average='weighted')\n",
        "\n",
        "# CNN-LSTM\n",
        "cnn_lstm_accuracy = accuracy_score(y_true, y_pred_classes)\n",
        "cnn_lstm_precision = precision_score(y_true, y_pred_classes, average='weighted')\n",
        "cnn_lstm_recall = recall_score(y_true, y_pred_classes, average='weighted')\n",
        "cnn_lstm_f1 = f1_score(y_true, y_pred_classes, average='weighted')\n",
        "\n",
        "# Create a DataFrame for comparison\n",
        "comparison_df = pd.DataFrame({\n",
        "    'Model': ['Logistic Regression', 'SVM', 'CNN-LSTM'],\n",
        "    'Accuracy': [log_reg_accuracy, svm_accuracy, cnn_lstm_accuracy],\n",
        "    'Precision': [log_reg_precision, svm_precision, cnn_lstm_precision],\n",
        "    'Recall': [log_reg_recall, svm_recall, cnn_lstm_recall],\n",
        "    'F1-Score': [log_reg_f1, svm_f1, cnn_lstm_f1]\n",
        "})\n",
        "\n",
        "print(comparison_df)\n"
      ],
      "metadata": {
        "colab": {
          "base_uri": "https://localhost:8080/"
        },
        "id": "vwVfti0ZOW8D",
        "outputId": "999e96e6-b41e-438c-96e5-e05769805d59"
      },
      "execution_count": 136,
      "outputs": [
        {
          "output_type": "stream",
          "name": "stdout",
          "text": [
            "                 Model  Accuracy  Precision    Recall  F1-Score\n",
            "0  Logistic Regression  0.742500   0.744411  0.742500  0.719393\n",
            "1                  SVM  0.798333   0.805823  0.798333  0.787638\n",
            "2             CNN-LSTM  0.887500   0.888455  0.887500  0.887879\n"
          ]
        }
      ]
    },
    {
      "cell_type": "code",
      "source": [
        "import matplotlib.pyplot as plt\n",
        "import numpy as np\n",
        "\n",
        "# Data from the comparison DataFrame\n",
        "models = comparison_df['Model']\n",
        "accuracy = comparison_df['Accuracy']\n",
        "precision = comparison_df['Precision']\n",
        "recall = comparison_df['Recall']\n",
        "f1_score = comparison_df['F1-Score']\n",
        "\n",
        "# Set the width of the bars\n",
        "bar_width = 0.2\n",
        "\n",
        "# Set the positions of the bars on the x-axis\n",
        "r1 = np.arange(len(models))\n",
        "r2 = [x + bar_width for x in r1]\n",
        "r3 = [x + bar_width for x in r2]\n",
        "r4 = [x + bar_width for x in r3]\n",
        "\n",
        "# Create the bar plot\n",
        "plt.figure(figsize=(12, 8))\n",
        "plt.bar(r1, accuracy, color='b', width=bar_width, edgecolor='grey', label='Accuracy')\n",
        "plt.bar(r2, precision, color='g', width=bar_width, edgecolor='grey', label='Precision')\n",
        "plt.bar(r3, recall, color='r', width=bar_width, edgecolor='grey', label='Recall')\n",
        "plt.bar(r4, f1_score, color='y', width=bar_width, edgecolor='grey', label='F1-Score')\n",
        "\n",
        "# Add labels, title, and legend\n",
        "plt.xlabel('Models', fontweight='bold')\n",
        "plt.ylabel('Scores', fontweight='bold')\n",
        "plt.title('Model Comparison', fontweight='bold')\n",
        "plt.xticks([r + bar_width for r in range(len(models))], models)\n",
        "plt.legend()\n",
        "\n",
        "# Display the plot\n",
        "plt.tight_layout()\n",
        "plt.show()"
      ],
      "metadata": {
        "colab": {
          "base_uri": "https://localhost:8080/",
          "height": 801
        },
        "id": "542dQRzEN-CF",
        "outputId": "b1357ad5-6cd8-4ee0-b0e8-62fed60bc23a"
      },
      "execution_count": 135,
      "outputs": [
        {
          "output_type": "display_data",
          "data": {
            "text/plain": [
              "<Figure size 1200x800 with 1 Axes>"
            ],
            "image/png": "[encoded data removed]"
          },
          "metadata": {}
        }
      ]
    },
    {
      "cell_type": "code",
      "source": [
        "# prompt: create comparison of all models on the postive negative and neutral\n",
        "\n",
        "import pandas as pd\n",
        "import numpy as np\n",
        "# Calculate precision, recall, and F1-score for each class and model\n",
        "def evaluate_for_class(y_true, y_pred, class_label):\n",
        "    true_positives = np.sum((y_true == class_label) & (y_pred == class_label))\n",
        "    false_positives = np.sum((y_true != class_label) & (y_pred == class_label))\n",
        "    false_negatives = np.sum((y_true == class_label) & (y_pred != class_label))\n",
        "\n",
        "    precision = true_positives / (true_positives + false_positives) if (true_positives + false_positives) > 0 else 0\n",
        "    recall = true_positives / (true_positives + false_negatives) if (true_positives + false_negatives) > 0 else 0\n",
        "    f1 = 2 * precision * recall / (precision + recall) if (precision + recall) > 0 else 0\n",
        "\n",
        "    return precision, recall, f1\n",
        "\n",
        "# Evaluate for each class\n",
        "classes = ['negative', 'neutral', 'positive']\n",
        "results = []\n",
        "for class_label, class_name in enumerate(classes):\n",
        "    log_reg_precision, log_reg_recall, log_reg_f1 = evaluate_for_class(y_test, y_pred_log_reg, class_label)\n",
        "    svm_precision, svm_recall, svm_f1 = evaluate_for_class(y_test, y_pred_svm, class_label)\n",
        "    cnn_lstm_precision, cnn_lstm_recall, cnn_lstm_f1 = evaluate_for_class(y_true, y_pred_classes, class_label)\n",
        "\n",
        "    results.append({\n",
        "        'Class': class_name,\n",
        "        'Metric': 'Precision',\n",
        "        'Logistic Regression': log_reg_precision,\n",
        "        'SVM': svm_precision,\n",
        "        'CNN-LSTM': cnn_lstm_precision\n",
        "    })\n",
        "    results.append({\n",
        "        'Class': class_name,\n",
        "        'Metric': 'Recall',\n",
        "        'Logistic Regression': log_reg_recall,\n",
        "        'SVM': svm_recall,\n",
        "        'CNN-LSTM': cnn_lstm_recall\n",
        "    })\n",
        "    results.append({\n",
        "        'Class': class_name,\n",
        "        'Metric': 'F1-Score',\n",
        "        'Logistic Regression': log_reg_f1,\n",
        "        'SVM': svm_f1,\n",
        "        'CNN-LSTM': cnn_lstm_f1\n",
        "    })\n",
        "\n",
        "# Create a DataFrame for comparison\n",
        "comparison_df_detailed = pd.DataFrame(results)\n",
        "\n",
        "# Display the detailed comparison\n",
        "print(comparison_df_detailed)\n",
        "\n",
        "# Plotting the results\n",
        "import seaborn as sns\n",
        "import matplotlib.pyplot as plt\n",
        "\n",
        "# Melt the DataFrame for easier plotting\n",
        "melted_df = comparison_df_detailed.melt(id_vars=['Class', 'Metric'], var_name='Model', value_name='Score')\n",
        "\n",
        "# Create a grouped bar plot\n",
        "plt.figure(figsize=(12, 8))\n",
        "sns.barplot(x='Class', y='Score', hue='Model', data=melted_df, ci=None)\n",
        "plt.title('Model Comparison for Each Class and Metric')\n",
        "plt.xlabel('Sentiment Class')\n",
        "plt.ylabel('Score')\n",
        "plt.legend(title='Model')\n",
        "plt.show()\n"
      ],
      "metadata": {
        "colab": {
          "base_uri": "https://localhost:8080/",
          "height": 995
        },
        "id": "nyOirU5AX0eY",
        "outputId": "3f45a013-9462-471c-e252-8ceee19cdec0"
      },
      "execution_count": 139,
      "outputs": [
        {
          "output_type": "stream",
          "name": "stdout",
          "text": [
            "      Class     Metric  Logistic Regression       SVM  CNN-LSTM\n",
            "0  negative  Precision             0.740741  0.767857  0.788732\n",
            "1  negative     Recall             0.148148  0.318519  0.829630\n",
            "2  negative   F1-Score             0.246914  0.450262  0.808664\n",
            "3   neutral  Precision             0.692675  0.731928  0.874545\n",
            "4   neutral     Recall             0.795247  0.888483  0.879342\n",
            "5   neutral   F1-Score             0.740426  0.802642  0.876937\n",
            "6  positive  Precision             0.800000  0.893750  0.929134\n",
            "7  positive     Recall             0.841699  0.828185  0.911197\n",
            "8  positive   F1-Score             0.820320  0.859719  0.920078\n"
          ]
        },
        {
          "output_type": "stream",
          "name": "stderr",
          "text": [
            "<ipython-input-139-fb2d751b532a>:62: FutureWarning: \n",
            "\n",
            "The `ci` parameter is deprecated. Use `errorbar=None` for the same effect.\n",
            "\n",
            "  sns.barplot(x='Class', y='Score', hue='Model', data=melted_df, ci=None)\n"
          ]
        },
        {
          "output_type": "display_data",
          "data": {
            "text/plain": [
              "<Figure size 1200x800 with 1 Axes>"
            ],
            "image/png": "[encoded data removed]"
          },
          "metadata": {}
        }
      ]
    }
  ]
}